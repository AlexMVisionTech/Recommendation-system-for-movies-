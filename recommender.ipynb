{
 "cells": [
  {
   "cell_type": "markdown",
   "id": "28d70ce6",
   "metadata": {},
   "source": [
    "## **Content Based and Collaborative filtering Movie Recommendation System**\n",
    "---\n",
    "## **Group 7**\n",
    "\n",
    "**Student Names:**  \n",
    "- Alex Mwera  \n",
    "- Noel Seda  \n",
    "- Zena Lisa Karari  \n",
    "\n",
    "**Student Pace:** Part-time  \n",
    "**Instructor Name:** Mildred Jepkosgei\n"
   ]
  },
  {
   "cell_type": "markdown",
   "id": "9494e733",
   "metadata": {},
   "source": [
    "---"
   ]
  },
  {
   "cell_type": "markdown",
   "id": "d5ac10a4",
   "metadata": {},
   "source": [
    "### Table of Contents\n",
    "1. Business Understanding  \n",
    "2. Problem Statement  \n",
    "3. Data Understanding  \n",
    "4. Data Preprocessing  \n",
    "5. Exploratory Data Analysis (EDA)  \n",
    "6. Content Based Modelling      \n",
    "7. Top-5 Recommendation Generation  \n",
    "8. Conclusion and Final Recommendations  \n",
    "\n",
    "---\n",
    "\n",
    "\n",
    "### 1. Business Understanding\n",
    "\n",
    "### Objective\n",
    "To improve user satisfaction and engagement on a movie streaming platform by providing **Top 5 personalised movie recommendations** based on users' past ratings. The goal is to simulate how platforms like Netflix and Prime Video tailor suggestions to each user.\n",
    "\n",
    "### Scope\n",
    "This project uses the MovieLens `ml-latest-small` dataset. It focuses on:\n",
    "- Explicit rating data (0.5 to 5.0 scale)\n",
    "- Recommending unseen movies to users\n",
    "\n",
    "### Success Criteria\n",
    "\n",
    "| Metric                 | Goal                            |\n",
    "|------------------------|----------------------------------|\n",
    "| RMSE / MAE             | Below 1.0                        |\n",
    "| Recommendation Relevance | Top 5 suggestions match user interests |\n",
    "| Coverage               | Recommendations generated for most users |\n",
    "| Scalability            | Can extend to larger datasets or real-world scenarios |\n",
    "\n",
    "\n",
    "\n",
    "### 2. Problem Statement\n",
    "\n",
    "In the age of digital content, users are often overwhelmed by thousands of movie choices. Without a guiding system, users may miss out on films they would have enjoyed, leading to reduced satisfaction and platform engagement.\n",
    "\n",
    "> **How can we accurately recommend the Top 5 movies to a user based on their historical movie ratings using content-based filtering techniques?**\n",
    "\n",
    "This project aims to build such a recommender system using content based filtering, trained on historical ratings data from MovieLens.\n",
    "\n",
    "\n",
    "\n",
    "### 3. Data Understanding\n",
    "\n",
    "The dataset used is the `ml-latest-small` version from MovieLens, containing 100,836 ratings by 610 users across 9,742 movies.\n",
    "\n",
    "### Key Files:\n",
    "- `movies.csv` – Contains `movieId`, `title`, `genres`\n",
    "- `ratings.csv` – Contains `userId`, `movieId`, `rating`, `timestamp`\n",
    "- `tags.csv`  – Contains user-generated tags\n",
    "- `links.csv`  – External references (IMDb, TMDb)\n",
    "\n",
    "### Ratings Data:\n",
    "- Ratings range from 0.5 to 5.0 in 0.5 increments\n",
    "- Explicit feedback format\n",
    "\n",
    "\n",
    "\n",
    "### 4. Data Preprocessing\n",
    "\n",
    "- Removed duplicates and unnecessary fields\n",
    "- Converted data into a **user-item matrix**\n",
    "- Split data into **training and test sets**\n",
    "- Normalized data for similarity calculations"
   ]
  },
  {
   "cell_type": "markdown",
   "id": "ea5e4229",
   "metadata": {},
   "source": [
    "---"
   ]
  },
  {
   "cell_type": "markdown",
   "id": "d75e82dd",
   "metadata": {},
   "source": [
    "## **Implementation & Demonstration**"
   ]
  },
  {
   "cell_type": "markdown",
   "id": "24763810",
   "metadata": {},
   "source": [
    "### 1. Environment Setup  \n",
    "Import libraries for data handling and visualization.\n"
   ]
  },
  {
   "cell_type": "code",
   "execution_count": 1,
   "id": "74d97a9f",
   "metadata": {},
   "outputs": [],
   "source": [
    "import pandas as pd\n",
    "import numpy as np\n",
    "import matplotlib.pyplot as plt\n",
    "import seaborn as sns\n",
    "import os"
   ]
  },
  {
   "cell_type": "markdown",
   "id": "b86bd238",
   "metadata": {},
   "source": [
    "### 2. Load Dataset  \n",
    "Loading MovieLens data files (`movies.csv`, `ratings.csv`,`links.csv`,`tags.csv`) into a dictionary.\n"
   ]
  },
  {
   "cell_type": "code",
   "execution_count": 2,
   "id": "5d33cb7e",
   "metadata": {},
   "outputs": [
    {
     "name": "stdout",
     "output_type": "stream",
     "text": [
      "Loaded movies (9742 rows, 3 columns)\n",
      "Loaded links (9742 rows, 3 columns)\n",
      "Loaded ratings (100836 rows, 4 columns)\n",
      "Loaded tags (3683 rows, 4 columns)\n"
     ]
    }
   ],
   "source": [
    "# Define file directory and filenames\n",
    "base_path = \"ml-latest-small\"\n",
    "filenames = {\n",
    "    \"movies\": \"movies.csv\",\n",
    "    \"links\": \"links.csv\",\n",
    "    \"ratings\": \"ratings.csv\",\n",
    "    \"tags\": \"tags.csv\"\n",
    "}\n",
    "\n",
    "# Load all CSV files into a dictionary\n",
    "data = {}\n",
    "\n",
    "for name, file in filenames.items():\n",
    "    file_path = os.path.join(base_path, file)\n",
    "    try:\n",
    "        data[name] = pd.read_csv(file_path)\n",
    "        print(f\"Loaded {name} ({data[name].shape[0]} rows, {data[name].shape[1]} columns)\")\n",
    "    except FileNotFoundError:\n",
    "        print(f\"Warning: File '{file_path}' not found.\")\n",
    "\n"
   ]
  },
  {
   "cell_type": "markdown",
   "id": "a5ab416e",
   "metadata": {},
   "source": [
    "Understanding the Dataset "
   ]
  },
  {
   "cell_type": "code",
   "execution_count": 3,
   "id": "98a3d84e",
   "metadata": {},
   "outputs": [
    {
     "name": "stdout",
     "output_type": "stream",
     "text": [
      "Movies dataset: 9,742 rows, 3 columns\n",
      "Links dataset: 9,742 rows, 3 columns\n",
      "Ratings dataset: 100,836 rows, 4 columns\n",
      "Tags dataset: 3,683 rows, 4 columns\n"
     ]
    }
   ],
   "source": [
    "# Print the shape of each dataset\n",
    "for name, df in data.items():\n",
    "    print(f\"{name.capitalize()} dataset: {df.shape[0]:,} rows, {df.shape[1]} columns\")\n"
   ]
  },
  {
   "cell_type": "code",
   "execution_count": 4,
   "id": "468b16ae",
   "metadata": {},
   "outputs": [
    {
     "name": "stdout",
     "output_type": "stream",
     "text": [
      "   movieId             title                                       genres\n",
      "0        1  Toy Story (1995)  Adventure|Animation|Children|Comedy|Fantasy\n",
      "   movieId  imdbId  tmdbId\n",
      "0        1  114709   862.0\n",
      "   userId  movieId  rating  timestamp\n",
      "0       1        1     4.0  964982703\n",
      "   userId  movieId    tag   timestamp\n",
      "0       2    60756  funny  1445714994\n"
     ]
    }
   ],
   "source": [
    "for name, df in data.items():\n",
    "    print(df.head(1))"
   ]
  },
  {
   "cell_type": "code",
   "execution_count": 5,
   "id": "46e5cd3d",
   "metadata": {},
   "outputs": [],
   "source": [
    "movies_df = data['movies']\n",
    "links_df = data['links']\n",
    "ratings_df = data['ratings']\n",
    "tags_df = data['tags']"
   ]
  },
  {
   "cell_type": "markdown",
   "id": "ec56e984",
   "metadata": {},
   "source": [
    "### 3. Merging Datasets\n",
    "\n",
    "To prepare the data for analysis and recommendations, we merge the `ratings`,`links`,`tags`and `movies` datasets.  \n",
    "This will allow us to connect user ratings with movie titles and genres for further processing.\n"
   ]
  },
  {
   "cell_type": "code",
   "execution_count": 6,
   "id": "dac99ba0",
   "metadata": {},
   "outputs": [],
   "source": [
    "ratings_movies = pd.merge(ratings_df, movies_df, on='movieId', how='left')"
   ]
  },
  {
   "cell_type": "code",
   "execution_count": 7,
   "id": "73fe18e8",
   "metadata": {},
   "outputs": [],
   "source": [
    "ratings_movies_tags = pd.merge(ratings_movies, tags_df, on=['userId', 'movieId'], how='left')"
   ]
  },
  {
   "cell_type": "code",
   "execution_count": 8,
   "id": "58931906",
   "metadata": {},
   "outputs": [],
   "source": [
    "movies_full_data = pd.merge(ratings_movies_tags, links_df, on='movieId', how='left')"
   ]
  },
  {
   "cell_type": "code",
   "execution_count": 9,
   "id": "65889fd7",
   "metadata": {},
   "outputs": [
    {
     "name": "stdout",
     "output_type": "stream",
     "text": [
      "Merged dataset shape: (102677, 10)\n",
      "Columns: ['userId', 'movieId', 'rating', 'timestamp_x', 'title', 'genres', 'tag', 'timestamp_y', 'imdbId', 'tmdbId']\n"
     ]
    }
   ],
   "source": [
    "print(\"Merged dataset shape:\", movies_full_data.shape)\n",
    "print(\"Columns:\", movies_full_data.columns.tolist())"
   ]
  },
  {
   "cell_type": "code",
   "execution_count": 10,
   "id": "0b84e611",
   "metadata": {},
   "outputs": [],
   "source": [
    "# Rename for clarity\n",
    "movies_full_data.rename(columns={\n",
    "    'timestamp_x': 'rating_timestamp',\n",
    "    'timestamp_y': 'tag_timestamp'\n",
    "}, inplace=True)\n"
   ]
  },
  {
   "cell_type": "code",
   "execution_count": 11,
   "id": "9447eda9",
   "metadata": {},
   "outputs": [
    {
     "data": {
      "text/html": [
       "<div>\n",
       "<style scoped>\n",
       "    .dataframe tbody tr th:only-of-type {\n",
       "        vertical-align: middle;\n",
       "    }\n",
       "\n",
       "    .dataframe tbody tr th {\n",
       "        vertical-align: top;\n",
       "    }\n",
       "\n",
       "    .dataframe thead th {\n",
       "        text-align: right;\n",
       "    }\n",
       "</style>\n",
       "<table border=\"1\" class=\"dataframe\">\n",
       "  <thead>\n",
       "    <tr style=\"text-align: right;\">\n",
       "      <th></th>\n",
       "      <th>userId</th>\n",
       "      <th>movieId</th>\n",
       "      <th>rating</th>\n",
       "      <th>rating_timestamp</th>\n",
       "      <th>title</th>\n",
       "      <th>genres</th>\n",
       "      <th>tag</th>\n",
       "      <th>tag_timestamp</th>\n",
       "      <th>imdbId</th>\n",
       "      <th>tmdbId</th>\n",
       "    </tr>\n",
       "  </thead>\n",
       "  <tbody>\n",
       "    <tr>\n",
       "      <th>0</th>\n",
       "      <td>1</td>\n",
       "      <td>1</td>\n",
       "      <td>4.0</td>\n",
       "      <td>964982703</td>\n",
       "      <td>Toy Story (1995)</td>\n",
       "      <td>Adventure|Animation|Children|Comedy|Fantasy</td>\n",
       "      <td>NaN</td>\n",
       "      <td>NaN</td>\n",
       "      <td>114709</td>\n",
       "      <td>862.0</td>\n",
       "    </tr>\n",
       "    <tr>\n",
       "      <th>1</th>\n",
       "      <td>1</td>\n",
       "      <td>3</td>\n",
       "      <td>4.0</td>\n",
       "      <td>964981247</td>\n",
       "      <td>Grumpier Old Men (1995)</td>\n",
       "      <td>Comedy|Romance</td>\n",
       "      <td>NaN</td>\n",
       "      <td>NaN</td>\n",
       "      <td>113228</td>\n",
       "      <td>15602.0</td>\n",
       "    </tr>\n",
       "    <tr>\n",
       "      <th>2</th>\n",
       "      <td>1</td>\n",
       "      <td>6</td>\n",
       "      <td>4.0</td>\n",
       "      <td>964982224</td>\n",
       "      <td>Heat (1995)</td>\n",
       "      <td>Action|Crime|Thriller</td>\n",
       "      <td>NaN</td>\n",
       "      <td>NaN</td>\n",
       "      <td>113277</td>\n",
       "      <td>949.0</td>\n",
       "    </tr>\n",
       "    <tr>\n",
       "      <th>3</th>\n",
       "      <td>1</td>\n",
       "      <td>47</td>\n",
       "      <td>5.0</td>\n",
       "      <td>964983815</td>\n",
       "      <td>Seven (a.k.a. Se7en) (1995)</td>\n",
       "      <td>Mystery|Thriller</td>\n",
       "      <td>NaN</td>\n",
       "      <td>NaN</td>\n",
       "      <td>114369</td>\n",
       "      <td>807.0</td>\n",
       "    </tr>\n",
       "    <tr>\n",
       "      <th>4</th>\n",
       "      <td>1</td>\n",
       "      <td>50</td>\n",
       "      <td>5.0</td>\n",
       "      <td>964982931</td>\n",
       "      <td>Usual Suspects, The (1995)</td>\n",
       "      <td>Crime|Mystery|Thriller</td>\n",
       "      <td>NaN</td>\n",
       "      <td>NaN</td>\n",
       "      <td>114814</td>\n",
       "      <td>629.0</td>\n",
       "    </tr>\n",
       "  </tbody>\n",
       "</table>\n",
       "</div>"
      ],
      "text/plain": [
       "   userId  movieId  rating  rating_timestamp                        title  \\\n",
       "0       1        1     4.0         964982703             Toy Story (1995)   \n",
       "1       1        3     4.0         964981247      Grumpier Old Men (1995)   \n",
       "2       1        6     4.0         964982224                  Heat (1995)   \n",
       "3       1       47     5.0         964983815  Seven (a.k.a. Se7en) (1995)   \n",
       "4       1       50     5.0         964982931   Usual Suspects, The (1995)   \n",
       "\n",
       "                                        genres  tag  tag_timestamp  imdbId  \\\n",
       "0  Adventure|Animation|Children|Comedy|Fantasy  NaN            NaN  114709   \n",
       "1                               Comedy|Romance  NaN            NaN  113228   \n",
       "2                        Action|Crime|Thriller  NaN            NaN  113277   \n",
       "3                             Mystery|Thriller  NaN            NaN  114369   \n",
       "4                       Crime|Mystery|Thriller  NaN            NaN  114814   \n",
       "\n",
       "    tmdbId  \n",
       "0    862.0  \n",
       "1  15602.0  \n",
       "2    949.0  \n",
       "3    807.0  \n",
       "4    629.0  "
      ]
     },
     "execution_count": 11,
     "metadata": {},
     "output_type": "execute_result"
    }
   ],
   "source": [
    "movies_full_data.head()"
   ]
  },
  {
   "cell_type": "markdown",
   "id": "08ed57b5",
   "metadata": {},
   "source": [
    "### 4. Data Cleaning\n",
    "\n",
    "Before building the recommendation model, we perform basic data cleaning to ensure quality and consistency.  \n",
    "This includes:\n",
    "\n",
    "-  Removing duplicate entries \n",
    "-  Handling missing values  \n",
    "-  Ensuring correct data types  \n",
    "\n",
    "These steps help reduce noise and improve the accuracy of our recommendations.\n"
   ]
  },
  {
   "cell_type": "code",
   "execution_count": 12,
   "id": "6776c963",
   "metadata": {},
   "outputs": [
    {
     "data": {
      "text/plain": [
       "userId                  0\n",
       "movieId                 0\n",
       "rating                  0\n",
       "rating_timestamp        0\n",
       "title                   0\n",
       "genres                  0\n",
       "tag                 99201\n",
       "tag_timestamp       99201\n",
       "imdbId                  0\n",
       "tmdbId                 13\n",
       "dtype: int64"
      ]
     },
     "execution_count": 12,
     "metadata": {},
     "output_type": "execute_result"
    }
   ],
   "source": [
    "movies_full_data.isnull().sum()"
   ]
  },
  {
   "cell_type": "code",
   "execution_count": 13,
   "id": "a14ed69b",
   "metadata": {},
   "outputs": [],
   "source": [
    "movies_full_data['tmdbId'] = movies_full_data['tmdbId'].fillna(-1)\n",
    "movies_full_data['tmdbId'] = pd.to_numeric(movies_full_data['tmdbId'], downcast='integer')\n"
   ]
  },
  {
   "cell_type": "code",
   "execution_count": 14,
   "id": "6bd74a20",
   "metadata": {},
   "outputs": [
    {
     "data": {
      "text/plain": [
       "0"
      ]
     },
     "execution_count": 14,
     "metadata": {},
     "output_type": "execute_result"
    }
   ],
   "source": [
    "movies_full_data.drop_duplicates(inplace=True)\n",
    "movies_full_data.duplicated().sum()"
   ]
  },
  {
   "cell_type": "code",
   "execution_count": 15,
   "id": "f2385070",
   "metadata": {},
   "outputs": [
    {
     "name": "stdout",
     "output_type": "stream",
     "text": [
      "<class 'pandas.core.frame.DataFrame'>\n",
      "RangeIndex: 102677 entries, 0 to 102676\n",
      "Data columns (total 10 columns):\n",
      " #   Column            Non-Null Count   Dtype  \n",
      "---  ------            --------------   -----  \n",
      " 0   userId            102677 non-null  int64  \n",
      " 1   movieId           102677 non-null  int64  \n",
      " 2   rating            102677 non-null  float64\n",
      " 3   rating_timestamp  102677 non-null  int64  \n",
      " 4   title             102677 non-null  object \n",
      " 5   genres            102677 non-null  object \n",
      " 6   tag               3476 non-null    object \n",
      " 7   tag_timestamp     3476 non-null    float64\n",
      " 8   imdbId            102677 non-null  int64  \n",
      " 9   tmdbId            102677 non-null  int32  \n",
      "dtypes: float64(2), int32(1), int64(4), object(3)\n",
      "memory usage: 7.4+ MB\n"
     ]
    }
   ],
   "source": [
    "movies_full_data.info()"
   ]
  },
  {
   "cell_type": "code",
   "execution_count": 16,
   "id": "d7800d34",
   "metadata": {},
   "outputs": [
    {
     "name": "stdout",
     "output_type": "stream",
     "text": [
      "<class 'pandas.core.frame.DataFrame'>\n",
      "RangeIndex: 102677 entries, 0 to 102676\n",
      "Data columns (total 10 columns):\n",
      " #   Column            Non-Null Count   Dtype  \n",
      "---  ------            --------------   -----  \n",
      " 0   userId            102677 non-null  object \n",
      " 1   movieId           102677 non-null  int64  \n",
      " 2   rating            102677 non-null  float64\n",
      " 3   rating_timestamp  102677 non-null  int64  \n",
      " 4   title             102677 non-null  object \n",
      " 5   genres            102677 non-null  object \n",
      " 6   tag               3476 non-null    object \n",
      " 7   tag_timestamp     3476 non-null    float64\n",
      " 8   imdbId            102677 non-null  int64  \n",
      " 9   tmdbId            102677 non-null  object \n",
      "dtypes: float64(2), int64(3), object(5)\n",
      "memory usage: 7.8+ MB\n"
     ]
    }
   ],
   "source": [
    "# Converting user IDs and tmdbId to object data type\n",
    "movies_full_data[['userId', 'tmdbId']] = movies_full_data[['userId', 'tmdbId']].astype('object')\n",
    "movies_full_data.info()"
   ]
  },
  {
   "cell_type": "markdown",
   "id": "c469b6f1",
   "metadata": {},
   "source": [
    "##                                                                                                      **Exploratory Data Analysis(EDA)**\n",
    "---"
   ]
  },
  {
   "cell_type": "markdown",
   "id": "ab5f99ed",
   "metadata": {},
   "source": [
    "### 5.Ratings Distribution\n",
    "\n",
    "We visualized the distribution of movie ratings to understand how users rate movies.  \n",
    "This helps identify skewness (e.g., most ratings being positive) and guides how we interpret user preferences.\n"
   ]
  },
  {
   "cell_type": "code",
   "execution_count": 17,
   "id": "850140ce",
   "metadata": {},
   "outputs": [
    {
     "data": {
      "image/png": "[encoded data removed]",
      "text/plain": [
       "<Figure size 1000x600 with 1 Axes>"
      ]
     },
     "metadata": {},
     "output_type": "display_data"
    }
   ],
   "source": [
    "plt.figure(figsize=(10, 6))\n",
    "sns.countplot(x='rating', hue='rating', data=movies_full_data, palette='viridis')\n",
    "plt.title('Distribution of Ratings')\n",
    "plt.xlabel('Rating')\n",
    "plt.ylabel('Count')\n",
    "plt.legend([], [], frameon=False)  \n",
    "plt.show()\n"
   ]
  },
  {
   "cell_type": "markdown",
   "id": "014ca56c",
   "metadata": {},
   "source": [
    "### 6.Genre Distribution\n",
    "\n",
    "To understand the type of content available in the dataset, we analyzed the number of movies in each genre.\n",
    "\n",
    "Since movies can belong to multiple genres (e.g., *Action|Adventure|Sci-Fi*), we split the `genres` column and counted each genre occurrence individually.\n",
    "\n",
    "The bar chart below shows the number of movies tagged with each genre in the dataset.\n"
   ]
  },
  {
   "cell_type": "code",
   "execution_count": 18,
   "id": "d2041659",
   "metadata": {},
   "outputs": [
    {
     "data": {
      "image/png": "[encoded data removed]",
      "text/plain": [
       "<Figure size 1200x600 with 1 Axes>"
      ]
     },
     "metadata": {},
     "output_type": "display_data"
    }
   ],
   "source": [
    "# count of movies in each genre\n",
    "genre_counts = movies_full_data['genres'].str.split('|', expand=True).stack().value_counts()\n",
    "plt.figure(figsize=(12, 6))\n",
    "genre_counts.plot(kind='bar', color='skyblue')\n",
    "plt.title('Number of Movies in Each Genre')\n",
    "plt.xlabel('Genre')\n",
    "plt.ylabel('Number of Movies')\n",
    "plt.show()"
   ]
  },
  {
   "cell_type": "markdown",
   "id": "de8aadcf",
   "metadata": {},
   "source": [
    "### 7.Ratings Activity Over Time\n",
    "\n",
    "We convert the `timestamp` column into a human-readable datetime format to analyze trends in rating behavior.\n",
    "\n",
    "By resampling the data monthly (`resample('M')`), we can observe how the number of ratings has changed over time — which is useful for understanding user engagement patterns and platform activity.\n"
   ]
  },
  {
   "cell_type": "code",
   "execution_count": 19,
   "id": "14b0d058",
   "metadata": {},
   "outputs": [
    {
     "data": {
      "image/png": "[encoded data removed]",
      "text/plain": [
       "<Figure size 1200x600 with 1 Axes>"
      ]
     },
     "metadata": {},
     "output_type": "display_data"
    }
   ],
   "source": [
    "import datetime\n",
    "\n",
    "ratings = data[\"ratings\"]\n",
    "\n",
    "# Convert timestamp to datetime\n",
    "ratings['timestamp'] = pd.to_datetime(ratings['timestamp'], unit='s')\n",
    "\n",
    "# Plot the number of ratings over time\n",
    "plt.figure(figsize=(12, 6))\n",
    "ratings.set_index('timestamp').resample('ME').size().plot()\n",
    "plt.title('Number of Ratings Over Time')\n",
    "plt.xlabel('Time')\n",
    "plt.ylabel('Number of Ratings')\n",
    "plt.show()"
   ]
  },
  {
   "cell_type": "markdown",
   "id": "3c3ed4ac",
   "metadata": {},
   "source": [
    "### 8.Most Common Genre Combinations\n",
    "\n",
    "Movies often belong to more than one genre (e.g., *Action | Adventure | Sci-Fi*).  \n",
    "To uncover patterns in how genres are combined, we:\n",
    "\n",
    "- Extracted and sorted genre combinations from each movie.\n",
    "- Counted how often each unique combination appeared.\n",
    "- Filtered for combinations that occurred more than 10 times.\n",
    "- Visualized the top 10 most frequent genre pairings or groupings.\n",
    "\n",
    "This helps us understand popular multi-genre trends in the dataset, which can inform **content-based recommendations** based on genre similarity.\n"
   ]
  },
  {
   "cell_type": "code",
   "execution_count": 20,
   "id": "13aafbbb",
   "metadata": {},
   "outputs": [
    {
     "data": {
      "image/png": "[encoded data removed]",
      "text/plain": [
       "<Figure size 1200x600 with 1 Axes>"
      ]
     },
     "metadata": {},
     "output_type": "display_data"
    }
   ],
   "source": [
    "from itertools import combinations\n",
    "from collections import Counter\n",
    "\n",
    "genre_combos = movies_full_data['genres'].dropna().apply(lambda x: tuple(sorted(x.split('|'))))\n",
    "combo_counts = Counter(genre_combos)\n",
    "\n",
    "# Filter for combinations of 2 or more genres\n",
    "combo_df = pd.DataFrame(combo_counts.items(), columns=['combo', 'count'])\n",
    "combo_df = combo_df[combo_df['count'] > 10].sort_values('count', ascending=False).head(10)\n",
    "\n",
    "plt.figure(figsize=(12, 6))\n",
    "sns.barplot(x=combo_df['count'], y=combo_df['combo'].astype(str))\n",
    "plt.title('Most Common Genre Combinations')\n",
    "plt.xlabel('Frequency')\n",
    "plt.ylabel('Genre Combination')\n",
    "plt.show()\n"
   ]
  },
  {
   "cell_type": "markdown",
   "id": "c6e075ae",
   "metadata": {},
   "source": [
    "## **Content Based Recommender system**\n",
    "---"
   ]
  },
  {
   "cell_type": "code",
   "execution_count": 21,
   "id": "6364bb27",
   "metadata": {},
   "outputs": [],
   "source": [
    "movies_full_data = movies_full_data.drop_duplicates(subset='title', keep='first')"
   ]
  },
  {
   "cell_type": "code",
   "execution_count": 22,
   "id": "c7e5f4cf",
   "metadata": {},
   "outputs": [
    {
     "data": {
      "text/plain": [
       "(9719, 10)"
      ]
     },
     "execution_count": 22,
     "metadata": {},
     "output_type": "execute_result"
    }
   ],
   "source": [
    "movies_full_data.shape"
   ]
  },
  {
   "cell_type": "code",
   "execution_count": 23,
   "id": "c3a89c85",
   "metadata": {},
   "outputs": [
    {
     "data": {
      "text/plain": [
       "0         Adventure|Animation|Children|Comedy|Fantasy\n",
       "1                                      Comedy|Romance\n",
       "2                               Action|Crime|Thriller\n",
       "3                                    Mystery|Thriller\n",
       "4                              Crime|Mystery|Thriller\n",
       "                             ...                     \n",
       "102661                                Action|Thriller\n",
       "102662                             Action|Crime|Drama\n",
       "102664                          Action|Drama|Thriller\n",
       "102668                                Horror|Thriller\n",
       "102669                                         Horror\n",
       "Name: genres, Length: 9719, dtype: object"
      ]
     },
     "execution_count": 23,
     "metadata": {},
     "output_type": "execute_result"
    }
   ],
   "source": [
    "movies_full_data['genres']"
   ]
  },
  {
   "cell_type": "markdown",
   "id": "46fa4f8b",
   "metadata": {},
   "source": [
    "### Importing TF-IDF and Cosine Similarity\n",
    "\n",
    "To build a content-based movie recommender system, we use textual metadata — specifically, the **genres** column — to measure similarity between movies.\n",
    "\n",
    "- **`TfidfVectorizer`** transforms the genre text into numerical feature vectors based on Term Frequency–Inverse Document Frequency\n",
    "- **`cosine_similarity`** computes the similarity between these TF-IDF vectors, returning a score between 0 (no similarity) and 1 (identical)\n"
   ]
  },
  {
   "cell_type": "code",
   "execution_count": 24,
   "id": "e5251b91",
   "metadata": {},
   "outputs": [],
   "source": [
    "from sklearn.feature_extraction.text import TfidfVectorizer\n",
    "from sklearn.metrics.pairwise import cosine_similarity"
   ]
  },
  {
   "cell_type": "code",
   "execution_count": 25,
   "id": "485ce2cd",
   "metadata": {},
   "outputs": [
    {
     "name": "stdout",
     "output_type": "stream",
     "text": [
      "['userId', 'movieId', 'rating', 'rating_timestamp', 'title', 'genres', 'tag', 'tag_timestamp', 'imdbId', 'tmdbId']\n"
     ]
    }
   ],
   "source": [
    "print(movies_full_data.columns.tolist())\n"
   ]
  },
  {
   "cell_type": "code",
   "execution_count": 26,
   "id": "6f8d89de",
   "metadata": {},
   "outputs": [],
   "source": [
    "movies_full_data['description'] = movies_full_data['genres'].fillna('') + \" \" + movies_full_data['tag'].fillna('')\n"
   ]
  },
  {
   "cell_type": "markdown",
   "id": "6012a519",
   "metadata": {},
   "source": [
    "### TF-IDF Vectorizer Setup\n",
    "\n",
    "We use `TfidfVectorizer` to convert text into numerical features for similarity comparison. Key settings include:\n",
    "\n",
    "- `min_df=3`: Ignore rare terms.\n",
    "- `max_features=50`: Limit to top 50 terms.\n",
    "- `ngram_range=(1, 3)`: Use unigrams, bigrams, and trigrams.\n",
    "- `stop_words='english'`: Remove common English words.\n",
    "\n",
    "This helps capture the most meaningful patterns in the text data.\n"
   ]
  },
  {
   "cell_type": "code",
   "execution_count": 27,
   "id": "249abd95",
   "metadata": {},
   "outputs": [],
   "source": [
    "tfv = TfidfVectorizer(min_df=3,  max_features=50, \n",
    "                      strip_accents='unicode', analyzer='word',\n",
    "                      token_pattern=r'\\w{1,}',\n",
    "                      ngram_range=(1, 3),\n",
    "                      stop_words='english')\n",
    "\n",
    "\n"
   ]
  },
  {
   "cell_type": "code",
   "execution_count": 28,
   "id": "c5786f5e",
   "metadata": {},
   "outputs": [
    {
     "data": {
      "text/plain": [
       "0    Adventure, Animation, Children, Comedy, Fantasy\n",
       "1                                    Comedy, Romance\n",
       "2                            Action, Crime, Thriller\n",
       "3                                  Mystery, Thriller\n",
       "4                           Crime, Mystery, Thriller\n",
       "Name: genres, dtype: object"
      ]
     },
     "execution_count": 28,
     "metadata": {},
     "output_type": "execute_result"
    }
   ],
   "source": [
    "# Filling NaNs with empty string\n",
    "movies_full_data['genres'] = movies_full_data['genres'].fillna('')\n",
    "# replacing the pipes '|' from the genres with 'commas'\n",
    "movies_full_data['genres'] = movies_full_data['genres'].map(lambda x: \", \".join(x.split(\"|\")))\n",
    "# genres\n",
    "movies_full_data['genres'].head()"
   ]
  },
  {
   "cell_type": "markdown",
   "id": "67fec52f",
   "metadata": {},
   "source": [
    "### Creating the TF-IDF Matrix\n",
    "\n",
    "We apply the configured `TfidfVectorizer` to the `genres` column to transform the text data into a sparse matrix of TF-IDF features.  \n",
    "This matrix numerically represents each movie’s genre profile, ready for similarity calculations.\n"
   ]
  },
  {
   "cell_type": "code",
   "execution_count": 29,
   "id": "c13ffa91",
   "metadata": {},
   "outputs": [
    {
     "data": {
      "text/plain": [
       "<9719x50 sparse matrix of type '<class 'numpy.float64'>'\n",
       "\twith 33610 stored elements in Compressed Sparse Row format>"
      ]
     },
     "execution_count": 29,
     "metadata": {},
     "output_type": "execute_result"
    }
   ],
   "source": [
    "tfv_matrix = tfv.fit_transform(movies_full_data['genres'])\n",
    "tfv_matrix"
   ]
  },
  {
   "cell_type": "code",
   "execution_count": 30,
   "id": "c04aebb1",
   "metadata": {},
   "outputs": [],
   "source": [
    "# Calculate cosine similarity\n",
    "cosine_sim = cosine_similarity(tfv_matrix, tfv_matrix)"
   ]
  },
  {
   "cell_type": "markdown",
   "id": "e259491f",
   "metadata": {},
   "source": [
    "### `get_title` Function\n",
    "\n",
    "Finds the first movie title matching the input text (case-insensitive) and returns its title and genres.  \n",
    "If no match, returns `None`.\n"
   ]
  },
  {
   "cell_type": "code",
   "execution_count": 31,
   "id": "07e5ad57",
   "metadata": {},
   "outputs": [],
   "source": [
    "def get_title(text, movies_full_data=movies_full_data):\n",
    "    \"\"\"Gets movie title matching `text`\n",
    "    returns:\n",
    "        title - title of movie matching the input\n",
    "        genres - the movie's genres \n",
    "    \"\"\"\n",
    "    mask = movies_full_data['title'].str.contains(text, case=False, regex=False)\n",
    "    title = movies_full_data.loc[mask, 'title'].head(1).values[0] if any(mask) else None\n",
    "    \n",
    "    if not title:\n",
    "        print(f\"\\n'{text}' does not match any movies. Please try again\")\n",
    "        return None, None\n",
    "\n",
    "    return title, movies_full_data.loc[mask].head(1)[\"genres\"].values[0]"
   ]
  },
  {
   "cell_type": "code",
   "execution_count": 32,
   "id": "73e57f4f",
   "metadata": {},
   "outputs": [
    {
     "name": "stdout",
     "output_type": "stream",
     "text": [
      "('Superman (1978)', 'Action, Adventure, Sci-Fi')\n",
      "\n",
      "('Toy Story (1995)', 'Adventure, Animation, Children, Comedy, Fantasy')\n"
     ]
    }
   ],
   "source": [
    "# test\n",
    "print(get_title(\"Superman (1978)\", movies_full_data))\n",
    "print()\n",
    "print(get_title(\"Toy Story (1995)\", movies_full_data))"
   ]
  },
  {
   "cell_type": "markdown",
   "id": "2f84943c",
   "metadata": {},
   "source": [
    "### `get_recommendations` Function\n",
    "\n",
    "Given a movie title, this function finds the top 10 most similar movies based on cosine similarity of their genres.\n",
    "\n",
    "Returns the recommended movies with their titles, genres, and ratings.\n"
   ]
  },
  {
   "cell_type": "code",
   "execution_count": 33,
   "id": "32bfb87a",
   "metadata": {},
   "outputs": [],
   "source": [
    "def get_recommendations(title, cosine_sim=cosine_sim):\n",
    "    idx = movies_full_data[movies_full_data['title'] == title].index[0]\n",
    "    sim_scores = list(enumerate(cosine_sim[idx]))\n",
    "    sim_scores = sorted(sim_scores, key=lambda x: x[1], reverse=True)\n",
    "    sim_scores = sim_scores[1:11]  # Get top 10 similar movies\n",
    "    movie_indices = [i[0] for i in sim_scores]\n",
    "    return movies_full_data.iloc[movie_indices][['title', 'genres', 'rating']].reset_index(drop=True)"
   ]
  },
  {
   "cell_type": "code",
   "execution_count": 34,
   "id": "c44d9340",
   "metadata": {},
   "outputs": [
    {
     "name": "stdout",
     "output_type": "stream",
     "text": [
      "                                               title  \\\n",
      "0                                 Toy Story 2 (1999)   \n",
      "1                              Monsters, Inc. (2001)   \n",
      "2                                        Antz (1998)   \n",
      "3     Adventures of Rocky and Bullwinkle, The (2000)   \n",
      "4                   Emperor's New Groove, The (2000)   \n",
      "5                             Shrek the Third (2007)   \n",
      "6                           The Good Dinosaur (2015)   \n",
      "7  Asterix and the Vikings (Astérix et les Viking...   \n",
      "8                     Tale of Despereaux, The (2008)   \n",
      "9                                       Moana (2016)   \n",
      "\n",
      "                                            genres  rating  \n",
      "0  Adventure, Animation, Children, Comedy, Fantasy     4.5  \n",
      "1  Adventure, Animation, Children, Comedy, Fantasy     4.0  \n",
      "2  Adventure, Animation, Children, Comedy, Fantasy     3.0  \n",
      "3  Adventure, Animation, Children, Comedy, Fantasy     4.0  \n",
      "4  Adventure, Animation, Children, Comedy, Fantasy     4.5  \n",
      "5  Adventure, Animation, Children, Comedy, Fantasy     4.5  \n",
      "6  Adventure, Animation, Children, Comedy, Fantasy     3.0  \n",
      "7  Adventure, Animation, Children, Comedy, Fantasy     5.0  \n",
      "8  Adventure, Animation, Children, Comedy, Fantasy     3.0  \n",
      "9  Adventure, Animation, Children, Comedy, Fantasy     4.5  \n"
     ]
    }
   ],
   "source": [
    "print(get_recommendations('Toy Story (1995)'))"
   ]
  },
  {
   "cell_type": "markdown",
   "id": "08892c1f",
   "metadata": {},
   "source": [
    "### Saving Model and Data\n",
    "\n",
    "The dataset, cosine similarity matrix and TF-IDF vectorizer are saved into a pickle file for use in our app.py, enabling quick loading without retraining.\n"
   ]
  },
  {
   "cell_type": "code",
   "execution_count": 35,
   "id": "ddd60944",
   "metadata": {},
   "outputs": [],
   "source": [
    "import pickle\n",
    "with open('movie_recommendation_model.pkl', 'wb') as f:\n",
    "    pickle.dump({\n",
    "        'movies_full_data': movies_full_data,\n",
    "        'cosine_sim': cosine_sim,\n",
    "        'tfv': tfv\n",
    "    }, f)"
   ]
  },
  {
   "cell_type": "markdown",
   "id": "1336f851",
   "metadata": {},
   "source": [
    "### Conclusion\n",
    "This project implemented a content-based movie recommendation system using TF-IDF vectorization of movie genres and cosine similarity to suggest movies similar to those a user likes. The system effectively captures movie similarities based on genre information, providing relevant recommendations without relying on user ratings.\n",
    "\n",
    "While the model performs well for users with specific genre preferences, it is limited by the available metadata and may not capture other aspects such as user behavior or movie popularity.\n",
    "\n",
    "Additionally, a user interface was built to provide an interactive experience, allowing users to input movie titles and receive personalized recommendations easily.\n",
    "\n",
    "### Next Steps\n",
    "To enhance the content-based recommender:\n",
    "\n",
    "- **Expand Metadata:** Incorporate additional features like movie descriptions, tags, cast, and crew information.\n",
    "- **Improve Feature Engineering:** Use techniques like word embeddings or sentence transformers for richer content representation.\n",
    "- **Address Cold Start for New Movies:** Utilize content features to recommend new or less-rated movies.\n",
    "- **Combine with Collaborative Filtering:** Create a hybrid model for better personalization.\n",
    "- **Evaluate with User Feedback:** Collect qualitative feedback to assess recommendation relevance.\n"
   ]
  },
  {
   "cell_type": "markdown",
   "id": "daf41146",
   "metadata": {},
   "source": [
    "## **Collaborative Recommender system(Item to Item)**\n",
    "---"
   ]
  },
  {
   "cell_type": "markdown",
   "id": "d2d85b8a",
   "metadata": {},
   "source": [
    "#### Loading and Merging MovieLens Dataset for `item to item` collaborative filtering "
   ]
  },
  {
   "cell_type": "code",
   "execution_count": 36,
   "id": "a7a0bea9",
   "metadata": {},
   "outputs": [
    {
     "data": {
      "text/html": [
       "<div>\n",
       "<style scoped>\n",
       "    .dataframe tbody tr th:only-of-type {\n",
       "        vertical-align: middle;\n",
       "    }\n",
       "\n",
       "    .dataframe tbody tr th {\n",
       "        vertical-align: top;\n",
       "    }\n",
       "\n",
       "    .dataframe thead th {\n",
       "        text-align: right;\n",
       "    }\n",
       "</style>\n",
       "<table border=\"1\" class=\"dataframe\">\n",
       "  <thead>\n",
       "    <tr style=\"text-align: right;\">\n",
       "      <th></th>\n",
       "      <th>movieId</th>\n",
       "      <th>title</th>\n",
       "      <th>userId</th>\n",
       "      <th>rating</th>\n",
       "    </tr>\n",
       "  </thead>\n",
       "  <tbody>\n",
       "    <tr>\n",
       "      <th>0</th>\n",
       "      <td>1</td>\n",
       "      <td>Toy Story (1995)</td>\n",
       "      <td>1</td>\n",
       "      <td>4.0</td>\n",
       "    </tr>\n",
       "    <tr>\n",
       "      <th>1</th>\n",
       "      <td>1</td>\n",
       "      <td>Toy Story (1995)</td>\n",
       "      <td>5</td>\n",
       "      <td>4.0</td>\n",
       "    </tr>\n",
       "    <tr>\n",
       "      <th>2</th>\n",
       "      <td>1</td>\n",
       "      <td>Toy Story (1995)</td>\n",
       "      <td>7</td>\n",
       "      <td>4.5</td>\n",
       "    </tr>\n",
       "    <tr>\n",
       "      <th>3</th>\n",
       "      <td>1</td>\n",
       "      <td>Toy Story (1995)</td>\n",
       "      <td>15</td>\n",
       "      <td>2.5</td>\n",
       "    </tr>\n",
       "    <tr>\n",
       "      <th>4</th>\n",
       "      <td>1</td>\n",
       "      <td>Toy Story (1995)</td>\n",
       "      <td>17</td>\n",
       "      <td>4.5</td>\n",
       "    </tr>\n",
       "    <tr>\n",
       "      <th>5</th>\n",
       "      <td>1</td>\n",
       "      <td>Toy Story (1995)</td>\n",
       "      <td>18</td>\n",
       "      <td>3.5</td>\n",
       "    </tr>\n",
       "    <tr>\n",
       "      <th>6</th>\n",
       "      <td>1</td>\n",
       "      <td>Toy Story (1995)</td>\n",
       "      <td>19</td>\n",
       "      <td>4.0</td>\n",
       "    </tr>\n",
       "    <tr>\n",
       "      <th>7</th>\n",
       "      <td>1</td>\n",
       "      <td>Toy Story (1995)</td>\n",
       "      <td>21</td>\n",
       "      <td>3.5</td>\n",
       "    </tr>\n",
       "    <tr>\n",
       "      <th>8</th>\n",
       "      <td>1</td>\n",
       "      <td>Toy Story (1995)</td>\n",
       "      <td>27</td>\n",
       "      <td>3.0</td>\n",
       "    </tr>\n",
       "    <tr>\n",
       "      <th>9</th>\n",
       "      <td>1</td>\n",
       "      <td>Toy Story (1995)</td>\n",
       "      <td>31</td>\n",
       "      <td>5.0</td>\n",
       "    </tr>\n",
       "  </tbody>\n",
       "</table>\n",
       "</div>"
      ],
      "text/plain": [
       "   movieId             title  userId  rating\n",
       "0        1  Toy Story (1995)       1     4.0\n",
       "1        1  Toy Story (1995)       5     4.0\n",
       "2        1  Toy Story (1995)       7     4.5\n",
       "3        1  Toy Story (1995)      15     2.5\n",
       "4        1  Toy Story (1995)      17     4.5\n",
       "5        1  Toy Story (1995)      18     3.5\n",
       "6        1  Toy Story (1995)      19     4.0\n",
       "7        1  Toy Story (1995)      21     3.5\n",
       "8        1  Toy Story (1995)      27     3.0\n",
       "9        1  Toy Story (1995)      31     5.0"
      ]
     },
     "execution_count": 36,
     "metadata": {},
     "output_type": "execute_result"
    }
   ],
   "source": [
    "movies = pd.read_csv('ml-latest-small/movies.csv')\n",
    "ratings = pd.read_csv('ml-latest-small/ratings.csv')\n",
    "\n",
    "movie_ratings = pd.merge(movies,ratings,).drop(columns=['timestamp','genres'])\n",
    "\n",
    "movie_ratings.head(10)"
   ]
  },
  {
   "cell_type": "code",
   "execution_count": 37,
   "id": "36e8568f",
   "metadata": {},
   "outputs": [
    {
     "data": {
      "text/plain": [
       "(100836, 4)"
      ]
     },
     "execution_count": 37,
     "metadata": {},
     "output_type": "execute_result"
    }
   ],
   "source": [
    "movie_ratings.shape"
   ]
  },
  {
   "cell_type": "markdown",
   "id": "ea6f34ec",
   "metadata": {},
   "source": [
    "Transform Ratings Data into User-Movie Matrix"
   ]
  },
  {
   "cell_type": "code",
   "execution_count": 38,
   "id": "e14618b4",
   "metadata": {},
   "outputs": [
    {
     "data": {
      "text/html": [
       "<div>\n",
       "<style scoped>\n",
       "    .dataframe tbody tr th:only-of-type {\n",
       "        vertical-align: middle;\n",
       "    }\n",
       "\n",
       "    .dataframe tbody tr th {\n",
       "        vertical-align: top;\n",
       "    }\n",
       "\n",
       "    .dataframe thead th {\n",
       "        text-align: right;\n",
       "    }\n",
       "</style>\n",
       "<table border=\"1\" class=\"dataframe\">\n",
       "  <thead>\n",
       "    <tr style=\"text-align: right;\">\n",
       "      <th>title</th>\n",
       "      <th>'71 (2014)</th>\n",
       "      <th>'Hellboy': The Seeds of Creation (2004)</th>\n",
       "      <th>'Round Midnight (1986)</th>\n",
       "      <th>'Salem's Lot (2004)</th>\n",
       "      <th>'Til There Was You (1997)</th>\n",
       "      <th>'Tis the Season for Love (2015)</th>\n",
       "      <th>'burbs, The (1989)</th>\n",
       "      <th>'night Mother (1986)</th>\n",
       "      <th>(500) Days of Summer (2009)</th>\n",
       "      <th>*batteries not included (1987)</th>\n",
       "      <th>...</th>\n",
       "      <th>Zulu (2013)</th>\n",
       "      <th>[REC] (2007)</th>\n",
       "      <th>[REC]² (2009)</th>\n",
       "      <th>[REC]³ 3 Génesis (2012)</th>\n",
       "      <th>anohana: The Flower We Saw That Day - The Movie (2013)</th>\n",
       "      <th>eXistenZ (1999)</th>\n",
       "      <th>xXx (2002)</th>\n",
       "      <th>xXx: State of the Union (2005)</th>\n",
       "      <th>¡Three Amigos! (1986)</th>\n",
       "      <th>À nous la liberté (Freedom for Us) (1931)</th>\n",
       "    </tr>\n",
       "    <tr>\n",
       "      <th>userId</th>\n",
       "      <th></th>\n",
       "      <th></th>\n",
       "      <th></th>\n",
       "      <th></th>\n",
       "      <th></th>\n",
       "      <th></th>\n",
       "      <th></th>\n",
       "      <th></th>\n",
       "      <th></th>\n",
       "      <th></th>\n",
       "      <th></th>\n",
       "      <th></th>\n",
       "      <th></th>\n",
       "      <th></th>\n",
       "      <th></th>\n",
       "      <th></th>\n",
       "      <th></th>\n",
       "      <th></th>\n",
       "      <th></th>\n",
       "      <th></th>\n",
       "      <th></th>\n",
       "    </tr>\n",
       "  </thead>\n",
       "  <tbody>\n",
       "    <tr>\n",
       "      <th>1</th>\n",
       "      <td>NaN</td>\n",
       "      <td>NaN</td>\n",
       "      <td>NaN</td>\n",
       "      <td>NaN</td>\n",
       "      <td>NaN</td>\n",
       "      <td>NaN</td>\n",
       "      <td>NaN</td>\n",
       "      <td>NaN</td>\n",
       "      <td>NaN</td>\n",
       "      <td>NaN</td>\n",
       "      <td>...</td>\n",
       "      <td>NaN</td>\n",
       "      <td>NaN</td>\n",
       "      <td>NaN</td>\n",
       "      <td>NaN</td>\n",
       "      <td>NaN</td>\n",
       "      <td>NaN</td>\n",
       "      <td>NaN</td>\n",
       "      <td>NaN</td>\n",
       "      <td>4.0</td>\n",
       "      <td>NaN</td>\n",
       "    </tr>\n",
       "    <tr>\n",
       "      <th>2</th>\n",
       "      <td>NaN</td>\n",
       "      <td>NaN</td>\n",
       "      <td>NaN</td>\n",
       "      <td>NaN</td>\n",
       "      <td>NaN</td>\n",
       "      <td>NaN</td>\n",
       "      <td>NaN</td>\n",
       "      <td>NaN</td>\n",
       "      <td>NaN</td>\n",
       "      <td>NaN</td>\n",
       "      <td>...</td>\n",
       "      <td>NaN</td>\n",
       "      <td>NaN</td>\n",
       "      <td>NaN</td>\n",
       "      <td>NaN</td>\n",
       "      <td>NaN</td>\n",
       "      <td>NaN</td>\n",
       "      <td>NaN</td>\n",
       "      <td>NaN</td>\n",
       "      <td>NaN</td>\n",
       "      <td>NaN</td>\n",
       "    </tr>\n",
       "    <tr>\n",
       "      <th>3</th>\n",
       "      <td>NaN</td>\n",
       "      <td>NaN</td>\n",
       "      <td>NaN</td>\n",
       "      <td>NaN</td>\n",
       "      <td>NaN</td>\n",
       "      <td>NaN</td>\n",
       "      <td>NaN</td>\n",
       "      <td>NaN</td>\n",
       "      <td>NaN</td>\n",
       "      <td>NaN</td>\n",
       "      <td>...</td>\n",
       "      <td>NaN</td>\n",
       "      <td>NaN</td>\n",
       "      <td>NaN</td>\n",
       "      <td>NaN</td>\n",
       "      <td>NaN</td>\n",
       "      <td>NaN</td>\n",
       "      <td>NaN</td>\n",
       "      <td>NaN</td>\n",
       "      <td>NaN</td>\n",
       "      <td>NaN</td>\n",
       "    </tr>\n",
       "  </tbody>\n",
       "</table>\n",
       "<p>3 rows × 9719 columns</p>\n",
       "</div>"
      ],
      "text/plain": [
       "title   '71 (2014)  'Hellboy': The Seeds of Creation (2004)  \\\n",
       "userId                                                        \n",
       "1              NaN                                      NaN   \n",
       "2              NaN                                      NaN   \n",
       "3              NaN                                      NaN   \n",
       "\n",
       "title   'Round Midnight (1986)  'Salem's Lot (2004)  \\\n",
       "userId                                                \n",
       "1                          NaN                  NaN   \n",
       "2                          NaN                  NaN   \n",
       "3                          NaN                  NaN   \n",
       "\n",
       "title   'Til There Was You (1997)  'Tis the Season for Love (2015)  \\\n",
       "userId                                                               \n",
       "1                             NaN                              NaN   \n",
       "2                             NaN                              NaN   \n",
       "3                             NaN                              NaN   \n",
       "\n",
       "title   'burbs, The (1989)  'night Mother (1986)  (500) Days of Summer (2009)  \\\n",
       "userId                                                                          \n",
       "1                      NaN                   NaN                          NaN   \n",
       "2                      NaN                   NaN                          NaN   \n",
       "3                      NaN                   NaN                          NaN   \n",
       "\n",
       "title   *batteries not included (1987)  ...  Zulu (2013)  [REC] (2007)  \\\n",
       "userId                                  ...                              \n",
       "1                                  NaN  ...          NaN           NaN   \n",
       "2                                  NaN  ...          NaN           NaN   \n",
       "3                                  NaN  ...          NaN           NaN   \n",
       "\n",
       "title   [REC]² (2009)  [REC]³ 3 Génesis (2012)  \\\n",
       "userId                                           \n",
       "1                 NaN                      NaN   \n",
       "2                 NaN                      NaN   \n",
       "3                 NaN                      NaN   \n",
       "\n",
       "title   anohana: The Flower We Saw That Day - The Movie (2013)  \\\n",
       "userId                                                           \n",
       "1                                                     NaN        \n",
       "2                                                     NaN        \n",
       "3                                                     NaN        \n",
       "\n",
       "title   eXistenZ (1999)  xXx (2002)  xXx: State of the Union (2005)  \\\n",
       "userId                                                                \n",
       "1                   NaN         NaN                             NaN   \n",
       "2                   NaN         NaN                             NaN   \n",
       "3                   NaN         NaN                             NaN   \n",
       "\n",
       "title   ¡Three Amigos! (1986)  À nous la liberté (Freedom for Us) (1931)  \n",
       "userId                                                                    \n",
       "1                         4.0                                        NaN  \n",
       "2                         NaN                                        NaN  \n",
       "3                         NaN                                        NaN  \n",
       "\n",
       "[3 rows x 9719 columns]"
      ]
     },
     "execution_count": 38,
     "metadata": {},
     "output_type": "execute_result"
    }
   ],
   "source": [
    "movie_ratings = movie_ratings.pivot_table(index='userId', columns='title', values='rating')\n",
    "movie_ratings.head(3)"
   ]
  },
  {
   "cell_type": "markdown",
   "id": "a8477a73",
   "metadata": {},
   "source": [
    " Clean the User-Movie Ratings Matrix"
   ]
  },
  {
   "cell_type": "code",
   "execution_count": 39,
   "id": "c8fbaac4",
   "metadata": {},
   "outputs": [
    {
     "data": {
      "text/html": [
       "<div>\n",
       "<style scoped>\n",
       "    .dataframe tbody tr th:only-of-type {\n",
       "        vertical-align: middle;\n",
       "    }\n",
       "\n",
       "    .dataframe tbody tr th {\n",
       "        vertical-align: top;\n",
       "    }\n",
       "\n",
       "    .dataframe thead th {\n",
       "        text-align: right;\n",
       "    }\n",
       "</style>\n",
       "<table border=\"1\" class=\"dataframe\">\n",
       "  <thead>\n",
       "    <tr style=\"text-align: right;\">\n",
       "      <th>title</th>\n",
       "      <th>'burbs, The (1989)</th>\n",
       "      <th>(500) Days of Summer (2009)</th>\n",
       "      <th>10 Cloverfield Lane (2016)</th>\n",
       "      <th>10 Things I Hate About You (1999)</th>\n",
       "      <th>10,000 BC (2008)</th>\n",
       "      <th>101 Dalmatians (1996)</th>\n",
       "      <th>101 Dalmatians (One Hundred and One Dalmatians) (1961)</th>\n",
       "      <th>12 Angry Men (1957)</th>\n",
       "      <th>12 Years a Slave (2013)</th>\n",
       "      <th>127 Hours (2010)</th>\n",
       "      <th>...</th>\n",
       "      <th>Zack and Miri Make a Porno (2008)</th>\n",
       "      <th>Zero Dark Thirty (2012)</th>\n",
       "      <th>Zero Effect (1998)</th>\n",
       "      <th>Zodiac (2007)</th>\n",
       "      <th>Zombieland (2009)</th>\n",
       "      <th>Zoolander (2001)</th>\n",
       "      <th>Zootopia (2016)</th>\n",
       "      <th>eXistenZ (1999)</th>\n",
       "      <th>xXx (2002)</th>\n",
       "      <th>¡Three Amigos! (1986)</th>\n",
       "    </tr>\n",
       "    <tr>\n",
       "      <th>userId</th>\n",
       "      <th></th>\n",
       "      <th></th>\n",
       "      <th></th>\n",
       "      <th></th>\n",
       "      <th></th>\n",
       "      <th></th>\n",
       "      <th></th>\n",
       "      <th></th>\n",
       "      <th></th>\n",
       "      <th></th>\n",
       "      <th></th>\n",
       "      <th></th>\n",
       "      <th></th>\n",
       "      <th></th>\n",
       "      <th></th>\n",
       "      <th></th>\n",
       "      <th></th>\n",
       "      <th></th>\n",
       "      <th></th>\n",
       "      <th></th>\n",
       "      <th></th>\n",
       "    </tr>\n",
       "  </thead>\n",
       "  <tbody>\n",
       "    <tr>\n",
       "      <th>1</th>\n",
       "      <td>0.0</td>\n",
       "      <td>0.0</td>\n",
       "      <td>0.0</td>\n",
       "      <td>0.0</td>\n",
       "      <td>0.0</td>\n",
       "      <td>0.0</td>\n",
       "      <td>0.0</td>\n",
       "      <td>0.0</td>\n",
       "      <td>0.0</td>\n",
       "      <td>0.0</td>\n",
       "      <td>...</td>\n",
       "      <td>0.0</td>\n",
       "      <td>0.0</td>\n",
       "      <td>0.0</td>\n",
       "      <td>0.0</td>\n",
       "      <td>0.0</td>\n",
       "      <td>0.0</td>\n",
       "      <td>0.0</td>\n",
       "      <td>0.0</td>\n",
       "      <td>0.0</td>\n",
       "      <td>4.0</td>\n",
       "    </tr>\n",
       "    <tr>\n",
       "      <th>2</th>\n",
       "      <td>0.0</td>\n",
       "      <td>0.0</td>\n",
       "      <td>0.0</td>\n",
       "      <td>0.0</td>\n",
       "      <td>0.0</td>\n",
       "      <td>0.0</td>\n",
       "      <td>0.0</td>\n",
       "      <td>0.0</td>\n",
       "      <td>0.0</td>\n",
       "      <td>0.0</td>\n",
       "      <td>...</td>\n",
       "      <td>0.0</td>\n",
       "      <td>0.0</td>\n",
       "      <td>0.0</td>\n",
       "      <td>0.0</td>\n",
       "      <td>3.0</td>\n",
       "      <td>0.0</td>\n",
       "      <td>0.0</td>\n",
       "      <td>0.0</td>\n",
       "      <td>0.0</td>\n",
       "      <td>0.0</td>\n",
       "    </tr>\n",
       "    <tr>\n",
       "      <th>3</th>\n",
       "      <td>0.0</td>\n",
       "      <td>0.0</td>\n",
       "      <td>0.0</td>\n",
       "      <td>0.0</td>\n",
       "      <td>0.0</td>\n",
       "      <td>0.0</td>\n",
       "      <td>0.0</td>\n",
       "      <td>0.0</td>\n",
       "      <td>0.0</td>\n",
       "      <td>0.0</td>\n",
       "      <td>...</td>\n",
       "      <td>0.0</td>\n",
       "      <td>0.0</td>\n",
       "      <td>0.0</td>\n",
       "      <td>0.0</td>\n",
       "      <td>0.0</td>\n",
       "      <td>0.0</td>\n",
       "      <td>0.0</td>\n",
       "      <td>0.0</td>\n",
       "      <td>0.0</td>\n",
       "      <td>0.0</td>\n",
       "    </tr>\n",
       "  </tbody>\n",
       "</table>\n",
       "<p>3 rows × 2269 columns</p>\n",
       "</div>"
      ],
      "text/plain": [
       "title   'burbs, The (1989)  (500) Days of Summer (2009)  \\\n",
       "userId                                                    \n",
       "1                      0.0                          0.0   \n",
       "2                      0.0                          0.0   \n",
       "3                      0.0                          0.0   \n",
       "\n",
       "title   10 Cloverfield Lane (2016)  10 Things I Hate About You (1999)  \\\n",
       "userId                                                                  \n",
       "1                              0.0                                0.0   \n",
       "2                              0.0                                0.0   \n",
       "3                              0.0                                0.0   \n",
       "\n",
       "title   10,000 BC (2008)  101 Dalmatians (1996)  \\\n",
       "userId                                            \n",
       "1                    0.0                    0.0   \n",
       "2                    0.0                    0.0   \n",
       "3                    0.0                    0.0   \n",
       "\n",
       "title   101 Dalmatians (One Hundred and One Dalmatians) (1961)  \\\n",
       "userId                                                           \n",
       "1                                                     0.0        \n",
       "2                                                     0.0        \n",
       "3                                                     0.0        \n",
       "\n",
       "title   12 Angry Men (1957)  12 Years a Slave (2013)  127 Hours (2010)  ...  \\\n",
       "userId                                                                  ...   \n",
       "1                       0.0                      0.0               0.0  ...   \n",
       "2                       0.0                      0.0               0.0  ...   \n",
       "3                       0.0                      0.0               0.0  ...   \n",
       "\n",
       "title   Zack and Miri Make a Porno (2008)  Zero Dark Thirty (2012)  \\\n",
       "userId                                                               \n",
       "1                                     0.0                      0.0   \n",
       "2                                     0.0                      0.0   \n",
       "3                                     0.0                      0.0   \n",
       "\n",
       "title   Zero Effect (1998)  Zodiac (2007)  Zombieland (2009)  \\\n",
       "userId                                                         \n",
       "1                      0.0            0.0                0.0   \n",
       "2                      0.0            0.0                3.0   \n",
       "3                      0.0            0.0                0.0   \n",
       "\n",
       "title   Zoolander (2001)  Zootopia (2016)  eXistenZ (1999)  xXx (2002)  \\\n",
       "userId                                                                   \n",
       "1                    0.0              0.0              0.0         0.0   \n",
       "2                    0.0              0.0              0.0         0.0   \n",
       "3                    0.0              0.0              0.0         0.0   \n",
       "\n",
       "title   ¡Three Amigos! (1986)  \n",
       "userId                         \n",
       "1                         4.0  \n",
       "2                         0.0  \n",
       "3                         0.0  \n",
       "\n",
       "[3 rows x 2269 columns]"
      ]
     },
     "execution_count": 39,
     "metadata": {},
     "output_type": "execute_result"
    }
   ],
   "source": [
    "movie_ratings= movie_ratings.dropna (thresh=10,axis=1).fillna(0)\n",
    "movie_ratings.head(3)"
   ]
  },
  {
   "cell_type": "code",
   "execution_count": 40,
   "id": "4775ad03",
   "metadata": {},
   "outputs": [],
   "source": [
    "#Similarity matrix\n",
    "movie_ratings=movie_ratings.corr(method='pearson')"
   ]
  },
  {
   "cell_type": "code",
   "execution_count": 41,
   "id": "12e6ccaa",
   "metadata": {},
   "outputs": [],
   "source": [
    "# Function for recommending movies by weighting user ratings of the given movie based on user preference\n",
    "\n",
    "def get_similar_movies(movie_name,rating):\n",
    "    similar_score=movie_ratings[movie_name]*(rating-2.5)\n",
    "    similar_score=similar_score.sort_values(ascending=False)\n",
    "    return similar_score\n",
    "    "
   ]
  },
  {
   "cell_type": "code",
   "execution_count": 42,
   "id": "33fb4925",
   "metadata": {},
   "outputs": [],
   "source": [
    "#Collecting user input for movies and ratings via console.\n",
    "def collect_user_input():\n",
    "    \n",
    "   \n",
    "    user_input = []\n",
    "    print(\"Enter the movies you’ve watched and your rating (0 to 5). Type 'done' when finished.\\n\")\n",
    "\n",
    "    while True:\n",
    "        movie = input(\"Enter movie title (or 'done' to finish): \")\n",
    "        if movie.lower() == 'done':\n",
    "            break\n",
    "\n",
    "        if movie not in movie_ratings.columns:\n",
    "            print(\"Movie not found in database. Try again.\")\n",
    "            continue\n",
    "\n",
    "        try:\n",
    "            rating = float(input(f\"Enter your rating for '{movie}': \"))\n",
    "            if 0 <= rating <= 5:\n",
    "                user_input.append((movie, rating))\n",
    "            else:\n",
    "                print(\"Rating must be between 0 and 5.\")\n",
    "        except ValueError:\n",
    "            print(\"Invalid input. Please enter a numeric rating.\")\n",
    "\n",
    "    return user_input\n",
    "\n",
    "\n"
   ]
  },
  {
   "cell_type": "code",
   "execution_count": 43,
   "id": "1237ef2f",
   "metadata": {},
   "outputs": [],
   "source": [
    "def recommend_from_user_input():\n",
    "    \"\"\"\n",
    "    Uses get_similar_movies() for each user input to compute and display recommendations.\n",
    "    \"\"\"\n",
    "    user_ratings = collect_user_input()\n",
    "\n",
    "    if not user_ratings:\n",
    "        print(\"No valid input provided.\")\n",
    "        return\n",
    "\n",
    "    # Initializing empty Series for recommendation scores\n",
    "    similar_movies = pd.Series(dtype=float)\n",
    "\n",
    "    for movie, rating in user_ratings:\n",
    "        similar_movies = similar_movies.add(get_similar_movies(movie, rating), fill_value=0)\n",
    "\n",
    "    # Droping movies the user has already rated\n",
    "    rated_titles = [m for m, _ in user_ratings]\n",
    "    similar_movies = similar_movies.drop(labels=rated_titles, errors='ignore')\n",
    "\n",
    "    # Displaying top recommendations\n",
    "    recommendations = similar_movies.sort_values(ascending=False).head(10)\n",
    "\n",
    "    print(\"\\nTop Recommendations for You:\\n\")\n",
    "    for i, (title, score) in enumerate(recommendations.items(), start=1):\n",
    "        print(f\"{i}. {title} (Score: {score:.2f})\")\n",
    "\n",
    "    return recommendations\n"
   ]
  },
  {
   "cell_type": "code",
   "execution_count": 47,
   "id": "113469cd",
   "metadata": {},
   "outputs": [
    {
     "name": "stdout",
     "output_type": "stream",
     "text": [
      "Enter the movies you’ve watched and your rating (0 to 5). Type 'done' when finished.\n",
      "\n",
      "\n",
      "Top Recommendations for You:\n",
      "\n",
      "1. Toy Story 2 (1999) (Score: 1.15)\n",
      "2. Groundhog Day (1993) (Score: 0.90)\n",
      "3. Independence Day (a.k.a. ID4) (1996) (Score: 0.90)\n",
      "4. Willy Wonka & the Chocolate Factory (1971) (Score: 0.89)\n",
      "5. Mission: Impossible (1996) (Score: 0.88)\n",
      "6. Nutty Professor, The (1996) (Score: 0.88)\n",
      "7. Bug's Life, A (1998) (Score: 0.86)\n",
      "8. Lion King, The (1994) (Score: 0.86)\n",
      "9. Babe (1995) (Score: 0.85)\n",
      "10. Monsters, Inc. (2001) (Score: 0.83)\n"
     ]
    },
    {
     "data": {
      "text/plain": [
       "title\n",
       "Toy Story 2 (1999)                            1.154403\n",
       "Groundhog Day (1993)                          0.903849\n",
       "Independence Day (a.k.a. ID4) (1996)          0.896183\n",
       "Willy Wonka & the Chocolate Factory (1971)    0.893284\n",
       "Mission: Impossible (1996)                    0.882117\n",
       "Nutty Professor, The (1996)                   0.875736\n",
       "Bug's Life, A (1998)                          0.863578\n",
       "Lion King, The (1994)                         0.860621\n",
       "Babe (1995)                                   0.852840\n",
       "Monsters, Inc. (2001)                         0.827033\n",
       "dtype: float64"
      ]
     },
     "execution_count": 47,
     "metadata": {},
     "output_type": "execute_result"
    }
   ],
   "source": [
    "# Collects user-rated movies interactively, uses get_similar_movies() to generate scores and displays top movie recommendations based on combined similarity\n",
    "recommend_from_user_input()\n"
   ]
  },
  {
   "cell_type": "markdown",
   "id": "d1d68136",
   "metadata": {},
   "source": [
    "### Conclusion\n",
    "\n",
    "- The get_similar_movies() function recommends movies based on how much a user liked a given film.\n",
    "\n",
    "- Ratings are weighted relative to a neutral score (2.5) to reflect user preference strength.\n",
    "\n",
    "- The model identifies movies liked by users with similar tastes and ranks them accordingly.\n",
    "\n",
    "- This approach is interpretable, easy to implement, and effective for small-to-medium datasets."
   ]
  },
  {
   "cell_type": "markdown",
   "id": "829e4de4",
   "metadata": {},
   "source": [
    "### What’s Next?\n",
    "\n",
    "- Handle Cold Start: Implement solutions for new users or unrated movies using content-based filtering (e.g., genres, tags, or summaries).\n",
    "\n",
    "- Add User Interface: Build a simple web or desktop interface to make the recommender interactive and user-friendly.\n",
    "\n",
    "- Hybrid Models: Combine collaborative filtering with content-based approaches or use deep learning for personalized recommendations.\n",
    "\n",
    "- Evaluation Metrics: Introduce metrics like RMSE, Precision@K, or Recall@K to measure the quality of the recommendations.\n",
    "\n",
    "- Deploy the System: Wrap your model into an API (e.g., Flask or FastAPI) and deploy it on a cloud platform for real-world use."
   ]
  }
 ],
 "metadata": {
  "kernelspec": {
   "display_name": "base",
   "language": "python",
   "name": "python3"
  },
  "language_info": {
   "codemirror_mode": {
    "name": "ipython",
    "version": 3
   },
   "file_extension": ".py",
   "mimetype": "text/x-python",
   "name": "python",
   "nbconvert_exporter": "python",
   "pygments_lexer": "ipython3",
   "version": "3.12.7"
  }
 },
 "nbformat": 4,
 "nbformat_minor": 5
}
